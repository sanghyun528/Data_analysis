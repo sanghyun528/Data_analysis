{
 "cells": [
  {
   "cell_type": "code",
   "execution_count": 1,
   "id": "842a6ec4-bf8a-41b2-a989-120361ee33de",
   "metadata": {},
   "outputs": [
    {
     "name": "stdout",
     "output_type": "stream",
     "text": [
      "1. “The world as we have created it is a process of our thinking. It cannot be changed without changing our thinking.” - Albert Einstein\n",
      "2. “It is our choices, Harry, that show what we truly are, far more than our abilities.” - J.K. Rowling\n",
      "3. “There are only two ways to live your life. One is as though nothing is a miracle. The other is as though everything is a miracle.” - Albert Einstein\n",
      "4. “The person, be it gentleman or lady, who has not pleasure in a good novel, must be intolerably stupid.” - Jane Austen\n",
      "5. “Imperfection is beauty, madness is genius and it's better to be absolutely ridiculous than absolutely boring.” - Marilyn Monroe\n",
      "6. “Try not to become a man of success. Rather become a man of value.” - Albert Einstein\n",
      "7. “It is better to be hated for what you are than to be loved for what you are not.” - André Gide\n",
      "8. “I have not failed. I've just found 10,000 ways that won't work.” - Thomas A. Edison\n",
      "9. “A woman is like a tea bag; you never know how strong it is until it's in hot water.” - Eleanor Roosevelt\n",
      "10. “A day without sunshine is like, you know, night.” - Steve Martin\n"
     ]
    }
   ],
   "source": [
    "import requests\n",
    "from bs4 import BeautifulSoup\n",
    "\n",
    "# 크롤링할 웹사이트 (명언 사이트)\n",
    "url = \"https://quotes.toscrape.com/\"\n",
    "\n",
    "# 웹 페이지 요청\n",
    "response = requests.get(url)\n",
    "soup = BeautifulSoup(response.text, \"html.parser\")\n",
    "\n",
    "# 명언과 저자 정보 가져오기\n",
    "quotes = soup.select(\".quote\")\n",
    "\n",
    "for idx, quote in enumerate(quotes, 1):\n",
    "    text = quote.select_one(\".text\").get_text(strip=True)\n",
    "    author = quote.select_one(\".author\").get_text(strip=True)\n",
    "    print(f\"{idx}. {text} - {author}\")"
   ]
  },
  {
   "cell_type": "code",
   "execution_count": 3,
   "id": "9a0949c8-d9b9-4162-9932-b4b3a63b3f2d",
   "metadata": {},
   "outputs": [
    {
     "name": "stdout",
     "output_type": "stream",
     "text": [
      "Requirement already satisfied: requests in c:\\users\\hash0\\anaconda3\\lib\\site-packages (2.32.3)\n",
      "Requirement already satisfied: beautifulsoup4 in c:\\users\\hash0\\anaconda3\\lib\\site-packages (4.12.3)\n",
      "Requirement already satisfied: pandas in c:\\users\\hash0\\anaconda3\\lib\\site-packages (2.2.2)\n",
      "Requirement already satisfied: charset-normalizer<4,>=2 in c:\\users\\hash0\\anaconda3\\lib\\site-packages (from requests) (3.3.2)\n",
      "Requirement already satisfied: idna<4,>=2.5 in c:\\users\\hash0\\anaconda3\\lib\\site-packages (from requests) (3.7)\n",
      "Requirement already satisfied: urllib3<3,>=1.21.1 in c:\\users\\hash0\\anaconda3\\lib\\site-packages (from requests) (2.2.3)\n",
      "Requirement already satisfied: certifi>=2017.4.17 in c:\\users\\hash0\\anaconda3\\lib\\site-packages (from requests) (2025.1.31)\n",
      "Requirement already satisfied: soupsieve>1.2 in c:\\users\\hash0\\anaconda3\\lib\\site-packages (from beautifulsoup4) (2.5)\n",
      "Requirement already satisfied: numpy>=1.26.0 in c:\\users\\hash0\\anaconda3\\lib\\site-packages (from pandas) (1.26.4)\n",
      "Requirement already satisfied: python-dateutil>=2.8.2 in c:\\users\\hash0\\anaconda3\\lib\\site-packages (from pandas) (2.9.0.post0)\n",
      "Requirement already satisfied: pytz>=2020.1 in c:\\users\\hash0\\anaconda3\\lib\\site-packages (from pandas) (2024.1)\n",
      "Requirement already satisfied: tzdata>=2022.7 in c:\\users\\hash0\\anaconda3\\lib\\site-packages (from pandas) (2023.3)\n",
      "Requirement already satisfied: six>=1.5 in c:\\users\\hash0\\anaconda3\\lib\\site-packages (from python-dateutil>=2.8.2->pandas) (1.16.0)\n",
      "Note: you may need to restart the kernel to use updated packages.\n"
     ]
    }
   ],
   "source": [
    "pip install requests beautifulsoup4 pandas"
   ]
  },
  {
   "cell_type": "code",
   "execution_count": 9,
   "id": "f8f47d18-8d8d-4a4c-9c79-d86bda102f55",
   "metadata": {},
   "outputs": [
    {
     "name": "stdout",
     "output_type": "stream",
     "text": [
      "크롤링 완료! quotes.csv 파일이 생성되었습니다.\n"
     ]
    }
   ],
   "source": [
    "import requests\n",
    "import csv\n",
    "from bs4 import BeautifulSoup\n",
    "\n",
    "# 크롤링할 웹사이트 URL\n",
    "base_url = \"https://quotes.toscrape.com\"\n",
    "page_url = \"/page/1/\"\n",
    "\n",
    "# CSV 파일 생성 (UTF-8 인코딩 설정)\n",
    "with open(\"quotes.csv\", \"w\", newline=\"\", encoding=\"utf-8-sig\") as file:\n",
    "    writer = csv.writer(file)\n",
    "    writer.writerow([\"Quote\", \"Author\", \"Tags\"])\n",
    "\n",
    "    while page_url:\n",
    "        response = requests.get(base_url + page_url)\n",
    "        soup = BeautifulSoup(response.text, \"html.parser\")\n",
    "\n",
    "        # 명언 데이터 추출\n",
    "        quotes = soup.find_all(\"div\", class_=\"quote\")\n",
    "\n",
    "        for quote in quotes:\n",
    "            text = quote.find(\"span\", class_=\"text\").get_text(strip=True)\n",
    "            author = quote.find(\"small\", class_=\"author\").get_text(strip=True)\n",
    "            tags = \", \".join(tag.get_text(strip=True) for tag in quote.find_all(\"a\", class_=\"tag\"))\n",
    "\n",
    "            writer.writerow([text, author, tags])\n",
    "\n",
    "        # 다음 페이지로 이동\n",
    "        next_page = soup.find(\"li\", class_=\"next\")\n",
    "        page_url = next_page.a[\"href\"] if next_page else None\n",
    "\n",
    "print(\"크롤링 완료! quotes.csv 파일이 생성되었습니다.\")"
   ]
  },
  {
   "cell_type": "code",
   "execution_count": null,
   "id": "1956d38c-5d4a-4811-9bec-66c5c035f418",
   "metadata": {},
   "outputs": [],
   "source": []
  },
  {
   "cell_type": "code",
   "execution_count": null,
   "id": "4554c408-1675-4226-8fcb-0b232f4ce8b2",
   "metadata": {},
   "outputs": [],
   "source": []
  },
  {
   "cell_type": "code",
   "execution_count": null,
   "id": "c7002194-5f95-4d4f-87bd-87b0520e2166",
   "metadata": {},
   "outputs": [],
   "source": []
  }
 ],
 "metadata": {
  "kernelspec": {
   "display_name": "Python [conda env:base] *",
   "language": "python",
   "name": "conda-base-py"
  },
  "language_info": {
   "codemirror_mode": {
    "name": "ipython",
    "version": 3
   },
   "file_extension": ".py",
   "mimetype": "text/x-python",
   "name": "python",
   "nbconvert_exporter": "python",
   "pygments_lexer": "ipython3",
   "version": "3.12.7"
  }
 },
 "nbformat": 4,
 "nbformat_minor": 5
}
